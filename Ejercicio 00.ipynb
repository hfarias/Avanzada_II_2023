{
 "cells": [
  {
   "cell_type": "code",
   "execution_count": 1,
   "metadata": {},
   "outputs": [
    {
     "data": {
      "text/html": [
       "\n",
       "        <iframe\n",
       "            width=\"1024\"\n",
       "            height=\"208\"\n",
       "            src=\"http://www.polla.cl/Areas/loto/Template_20_ES/index.html#action=results\"\n",
       "            frameborder=\"0\"\n",
       "            allowfullscreen\n",
       "            \n",
       "        ></iframe>\n",
       "        "
      ],
      "text/plain": [
       "<IPython.lib.display.IFrame at 0x7f7bbf743100>"
      ]
     },
     "execution_count": 1,
     "metadata": {},
     "output_type": "execute_result"
    }
   ],
   "source": [
    "from IPython.display import IFrame\n",
    "IFrame('http://www.polla.cl/Areas/loto/Template_20_ES/index.html#action=results',1024,208)"
   ]
  },
  {
   "cell_type": "code",
   "execution_count": 2,
   "metadata": {},
   "outputs": [],
   "source": [
    "import pandas as pd\n",
    "import numpy as np\n",
    "import os\n",
    "\n",
    "%matplotlib inline\n",
    "\n",
    "direccion = 'http://www.polla.cl/cache/dgResultHistoryForGameCSV/ES/Loto.csv'\n",
    "pd.set_option('display.mpl_style', 'default') # Mejora la visualizacion de los graficos, estilo flat."
   ]
  },
  {
   "cell_type": "markdown",
   "metadata": {},
   "source": [
    "Lo primero que debemos hacer es leer el archivo cvs desde la pagina de polla"
   ]
  },
  {
   "cell_type": "code",
   "execution_count": 3,
   "metadata": {},
   "outputs": [
    {
     "name": "stdout",
     "output_type": "stream",
     "text": [
      "CPU times: user 12.5 ms, sys: 4.89 ms, total: 17.4 ms\n",
      "Wall time: 26.2 ms\n"
     ]
    }
   ],
   "source": [
    "# %time _ es un \"llave magica\" de IPython sirve para medir cuanto demora la instrucción \n",
    "# Lo primero es leer el archivo desde la pagina\n",
    "#%time _ = resultados = pd.read_csv(direccion)\n",
    "%time _ = resultados = pd.read_csv(\"Loto.csv\")"
   ]
  },
  {
   "cell_type": "code",
   "execution_count": 4,
   "metadata": {},
   "outputs": [
    {
     "name": "stdout",
     "output_type": "stream",
     "text": [
      "CPU times: user 21.6 ms, sys: 2.96 ms, total: 24.6 ms\n",
      "Wall time: 25.4 ms\n"
     ]
    }
   ],
   "source": [
    "# Lo segundo es guardar el archivo en el equipo\n",
    "%time _ = resultados.to_csv('resultados_loto.csv',index=False)"
   ]
  },
  {
   "cell_type": "code",
   "execution_count": 5,
   "metadata": {},
   "outputs": [
    {
     "name": "stdout",
     "output_type": "stream",
     "text": [
      "Big-Data-Types.jpg             \u001b[31mhbr_data.jpg\u001b[m\u001b[m\r\n",
      "Ejercicio 00.ipynb             linkedin.jpg\r\n",
      "Jeff_Hammerbacher.jpg          logo_vagrant.png\r\n",
      "Laboratorio 00.ipynb           loto_loto.xls\r\n",
      "Loto.csv                       nate.jpg\r\n",
      "MDP_14Apr.jpg                  nategano.jpg\r\n",
      "Rise_of_the_Data_Scientist.jpg netflix.jpg\r\n",
      "Teoria_00.ipynb                noBigData.jpg\r\n",
      "Teoria_00.slides.html          nociencia.gif\r\n",
      "VennDiagram.jpg                nociencia2.gif\r\n",
      "bd.jpg                         paquetes.txt\r\n",
      "bigData.jpg                    practica.jpg\r\n",
      "datascience.jpg                resultados_loto.csv\r\n",
      "\u001b[1m\u001b[36mdemo\u001b[m\u001b[m                           stack.jpg\r\n",
      "disquete.jpg                   teoria.jpg\r\n",
      "fb.jpg                         \u001b[1m\u001b[36mtest\u001b[m\u001b[m\r\n",
      "fin.jpg                        test.txt\r\n",
      "funciones utiles.ipynb         the4.jpg\r\n",
      "google.jpg                     toolbox.jpg\r\n",
      "googleFlu.jpg                  \u001b[31muserena.jpg\u001b[m\u001b[m\r\n",
      "hadoop.png                     vagrantWin.txt\r\n",
      "harlan.jpg                     yo.jpg\r\n"
     ]
    }
   ],
   "source": [
    "#verificamos que este el archivo en la carpeta con el comenado ls, uno de los \"tricks\" de python.\n",
    "!ls"
   ]
  },
  {
   "cell_type": "code",
   "execution_count": 6,
   "metadata": {},
   "outputs": [
    {
     "data": {
      "text/plain": [
       "Index([u'Fecha de Sorteo', u'Numero de sorteo', u'Numero de Juego', u'Nombre', u'Valores Principales', u'Comodines', u'DRAWNAME', u'Ganadores de Premio Mayor', u'Premio Mayor Garantizado'], dtype='object')"
      ]
     },
     "execution_count": 6,
     "metadata": {},
     "output_type": "execute_result"
    }
   ],
   "source": [
    "resultados.columns"
   ]
  },
  {
   "cell_type": "markdown",
   "metadata": {},
   "source": [
    "Normalizamos los nombres de los campos (por comodidad)"
   ]
  },
  {
   "cell_type": "code",
   "execution_count": 7,
   "metadata": {},
   "outputs": [],
   "source": [
    "resultados = resultados.rename(columns={'Fecha de Sorteo':'fecha',\n",
    "                                        'Numero de sorteo':'sorteo',\n",
    "                                        'Numero de Juego':'juego',\n",
    "                                        'Nombre':'nombre',\n",
    "                                        'Valores Principales':'numeros',\n",
    "                                        'Comodines':'comodines',\n",
    "                                        'DRAWNAME':'nombre_juego',\n",
    "                                        'Ganadores de Premio Mayor':'ganadores',\n",
    "                                        'Premio Mayor Garantizado':'premio',\n",
    "                                        })"
   ]
  },
  {
   "cell_type": "code",
   "execution_count": 8,
   "metadata": {},
   "outputs": [
    {
     "data": {
      "text/html": [
       "<div style=\"max-height:1000px;max-width:1500px;overflow:auto;\">\n",
       "<table border=\"1\" class=\"dataframe\">\n",
       "  <thead>\n",
       "    <tr style=\"text-align: right;\">\n",
       "      <th></th>\n",
       "      <th>fecha</th>\n",
       "      <th>sorteo</th>\n",
       "      <th>juego</th>\n",
       "      <th>nombre</th>\n",
       "      <th>numeros</th>\n",
       "      <th>comodines</th>\n",
       "      <th>nombre_juego</th>\n",
       "      <th>ganadores</th>\n",
       "      <th>premio</th>\n",
       "    </tr>\n",
       "  </thead>\n",
       "  <tbody>\n",
       "    <tr>\n",
       "      <th>0</th>\n",
       "      <td> 8/25/2002 12:00:00 AM</td>\n",
       "      <td> 1714</td>\n",
       "      <td> 1</td>\n",
       "      <td> main</td>\n",
       "      <td>   31,34,26,1,2,28</td>\n",
       "      <td> 16</td>\n",
       "      <td>     Loto</td>\n",
       "      <td> 0</td>\n",
       "      <td>NaN</td>\n",
       "    </tr>\n",
       "    <tr>\n",
       "      <th>1</th>\n",
       "      <td> 8/25/2002 12:00:00 AM</td>\n",
       "      <td> 1714</td>\n",
       "      <td> 1</td>\n",
       "      <td> main</td>\n",
       "      <td> 27,19,23,24,10,14</td>\n",
       "      <td>NaN</td>\n",
       "      <td> Revancha</td>\n",
       "      <td> 0</td>\n",
       "      <td>NaN</td>\n",
       "    </tr>\n",
       "    <tr>\n",
       "      <th>2</th>\n",
       "      <td> 8/27/2002 12:00:00 AM</td>\n",
       "      <td> 1715</td>\n",
       "      <td> 1</td>\n",
       "      <td> main</td>\n",
       "      <td>  13,17,1,28,26,30</td>\n",
       "      <td> 19</td>\n",
       "      <td>     Loto</td>\n",
       "      <td> 0</td>\n",
       "      <td>NaN</td>\n",
       "    </tr>\n",
       "    <tr>\n",
       "      <th>3</th>\n",
       "      <td> 8/27/2002 12:00:00 AM</td>\n",
       "      <td> 1715</td>\n",
       "      <td> 1</td>\n",
       "      <td> main</td>\n",
       "      <td>  36,25,9,30,24,13</td>\n",
       "      <td>NaN</td>\n",
       "      <td> Revancha</td>\n",
       "      <td> 0</td>\n",
       "      <td>NaN</td>\n",
       "    </tr>\n",
       "    <tr>\n",
       "      <th>4</th>\n",
       "      <td> 8/29/2002 12:00:00 AM</td>\n",
       "      <td> 1716</td>\n",
       "      <td> 1</td>\n",
       "      <td> main</td>\n",
       "      <td>   20,14,4,5,30,16</td>\n",
       "      <td> 35</td>\n",
       "      <td>     Loto</td>\n",
       "      <td> 0</td>\n",
       "      <td>NaN</td>\n",
       "    </tr>\n",
       "  </tbody>\n",
       "</table>\n",
       "<p>5 rows × 9 columns</p>\n",
       "</div>"
      ],
      "text/plain": [
       "                   fecha  sorteo  juego nombre            numeros  comodines  \\\n",
       "0  8/25/2002 12:00:00 AM    1714      1   main    31,34,26,1,2,28         16   \n",
       "1  8/25/2002 12:00:00 AM    1714      1   main  27,19,23,24,10,14        NaN   \n",
       "2  8/27/2002 12:00:00 AM    1715      1   main   13,17,1,28,26,30         19   \n",
       "3  8/27/2002 12:00:00 AM    1715      1   main   36,25,9,30,24,13        NaN   \n",
       "4  8/29/2002 12:00:00 AM    1716      1   main    20,14,4,5,30,16         35   \n",
       "\n",
       "  nombre_juego  ganadores  premio  \n",
       "0         Loto          0     NaN  \n",
       "1     Revancha          0     NaN  \n",
       "2         Loto          0     NaN  \n",
       "3     Revancha          0     NaN  \n",
       "4         Loto          0     NaN  \n",
       "\n",
       "[5 rows x 9 columns]"
      ]
     },
     "execution_count": 8,
     "metadata": {},
     "output_type": "execute_result"
    }
   ],
   "source": [
    "resultados.head()"
   ]
  },
  {
   "cell_type": "code",
   "execution_count": 9,
   "metadata": {},
   "outputs": [
    {
     "data": {
      "text/plain": [
       "5180"
      ]
     },
     "execution_count": 9,
     "metadata": {},
     "output_type": "execute_result"
    }
   ],
   "source": [
    "len(resultados)"
   ]
  },
  {
   "cell_type": "markdown",
   "metadata": {},
   "source": [
    "Dado que estamos buscando solo los numeros ganadores del **Loto**, acotamos el data set solo a este juego."
   ]
  },
  {
   "cell_type": "code",
   "execution_count": 10,
   "metadata": {},
   "outputs": [
    {
     "data": {
      "text/html": [
       "<div style=\"max-height:1000px;max-width:1500px;overflow:auto;\">\n",
       "<table border=\"1\" class=\"dataframe\">\n",
       "  <thead>\n",
       "    <tr style=\"text-align: right;\">\n",
       "      <th></th>\n",
       "      <th>fecha</th>\n",
       "      <th>sorteo</th>\n",
       "      <th>juego</th>\n",
       "      <th>nombre</th>\n",
       "      <th>numeros</th>\n",
       "      <th>comodines</th>\n",
       "      <th>nombre_juego</th>\n",
       "      <th>ganadores</th>\n",
       "      <th>premio</th>\n",
       "    </tr>\n",
       "  </thead>\n",
       "  <tbody>\n",
       "    <tr>\n",
       "      <th>5160</th>\n",
       "      <td>  8/3/2014 12:00:00 AM</td>\n",
       "      <td> 3581</td>\n",
       "      <td> 1</td>\n",
       "      <td> main</td>\n",
       "      <td>  2,17,21,23,33,36</td>\n",
       "      <td>  3</td>\n",
       "      <td> Loto</td>\n",
       "      <td> 0</td>\n",
       "      <td> 500000000</td>\n",
       "    </tr>\n",
       "    <tr>\n",
       "      <th>5164</th>\n",
       "      <td>  8/5/2014 12:00:00 AM</td>\n",
       "      <td> 3582</td>\n",
       "      <td> 1</td>\n",
       "      <td> main</td>\n",
       "      <td> 11,13,24,27,31,32</td>\n",
       "      <td> 15</td>\n",
       "      <td> Loto</td>\n",
       "      <td> 0</td>\n",
       "      <td> 610000000</td>\n",
       "    </tr>\n",
       "    <tr>\n",
       "      <th>5168</th>\n",
       "      <td>  8/7/2014 12:00:00 AM</td>\n",
       "      <td> 3583</td>\n",
       "      <td> 1</td>\n",
       "      <td> main</td>\n",
       "      <td>  7,11,24,30,36,41</td>\n",
       "      <td> 13</td>\n",
       "      <td> Loto</td>\n",
       "      <td> 0</td>\n",
       "      <td> 710000000</td>\n",
       "    </tr>\n",
       "    <tr>\n",
       "      <th>5172</th>\n",
       "      <td> 8/10/2014 12:00:00 AM</td>\n",
       "      <td> 3584</td>\n",
       "      <td> 1</td>\n",
       "      <td> main</td>\n",
       "      <td>  5,13,19,21,24,33</td>\n",
       "      <td>  6</td>\n",
       "      <td> Loto</td>\n",
       "      <td> 0</td>\n",
       "      <td> 840000000</td>\n",
       "    </tr>\n",
       "    <tr>\n",
       "      <th>5176</th>\n",
       "      <td> 8/12/2014 12:00:00 AM</td>\n",
       "      <td> 3585</td>\n",
       "      <td> 1</td>\n",
       "      <td> main</td>\n",
       "      <td>   1,8,16,27,34,35</td>\n",
       "      <td> 21</td>\n",
       "      <td> Loto</td>\n",
       "      <td> 0</td>\n",
       "      <td> 940000000</td>\n",
       "    </tr>\n",
       "  </tbody>\n",
       "</table>\n",
       "<p>5 rows × 9 columns</p>\n",
       "</div>"
      ],
      "text/plain": [
       "                      fecha  sorteo  juego nombre            numeros  \\\n",
       "5160   8/3/2014 12:00:00 AM    3581      1   main   2,17,21,23,33,36   \n",
       "5164   8/5/2014 12:00:00 AM    3582      1   main  11,13,24,27,31,32   \n",
       "5168   8/7/2014 12:00:00 AM    3583      1   main   7,11,24,30,36,41   \n",
       "5172  8/10/2014 12:00:00 AM    3584      1   main   5,13,19,21,24,33   \n",
       "5176  8/12/2014 12:00:00 AM    3585      1   main    1,8,16,27,34,35   \n",
       "\n",
       "      comodines nombre_juego  ganadores     premio  \n",
       "5160          3         Loto          0  500000000  \n",
       "5164         15         Loto          0  610000000  \n",
       "5168         13         Loto          0  710000000  \n",
       "5172          6         Loto          0  840000000  \n",
       "5176         21         Loto          0  940000000  \n",
       "\n",
       "[5 rows x 9 columns]"
      ]
     },
     "execution_count": 10,
     "metadata": {},
     "output_type": "execute_result"
    }
   ],
   "source": [
    "resultado_loto = resultados.ix[(resultados.nombre_juego==\"Loto\")]\n",
    "resultado_loto.tail()"
   ]
  },
  {
   "cell_type": "code",
   "execution_count": 11,
   "metadata": {},
   "outputs": [
    {
     "data": {
      "text/plain": [
       "1906"
      ]
     },
     "execution_count": 11,
     "metadata": {},
     "output_type": "execute_result"
    }
   ],
   "source": [
    "len(resultado_loto)"
   ]
  },
  {
   "cell_type": "markdown",
   "metadata": {},
   "source": [
    "Dado que estamos buscando solo los numeros ganadores, acotamos el data set solo a los sorteos con ganadores."
   ]
  },
  {
   "cell_type": "code",
   "execution_count": 12,
   "metadata": {},
   "outputs": [
    {
     "data": {
      "text/plain": [
       "94"
      ]
     },
     "execution_count": 12,
     "metadata": {},
     "output_type": "execute_result"
    }
   ],
   "source": [
    "ganadores = resultado_loto.ix[(resultados.ganadores>0)]\n",
    "len(ganadores)"
   ]
  },
  {
   "cell_type": "code",
   "execution_count": 13,
   "metadata": {},
   "outputs": [],
   "source": [
    "#limpiamos un poco nuestro set de datos:\n",
    "del ganadores['nombre']\n",
    "del ganadores['sorteo']\n",
    "del ganadores['juego']\n",
    "del ganadores['nombre_juego']\n",
    "del ganadores['ganadores']"
   ]
  },
  {
   "cell_type": "markdown",
   "metadata": {},
   "source": [
    "Como se puede observar la columna **numeros** es un strig separado por **\",\"** es es un problema muy comun en set de datos, lo que hay que hacer es separar esa columna en columnas individiduales."
   ]
  },
  {
   "cell_type": "code",
   "execution_count": 14,
   "metadata": {},
   "outputs": [
    {
     "data": {
      "text/html": [
       "<div style=\"max-height:1000px;max-width:1500px;overflow:auto;\">\n",
       "<table border=\"1\" class=\"dataframe\">\n",
       "  <thead>\n",
       "    <tr style=\"text-align: right;\">\n",
       "      <th></th>\n",
       "      <th>fecha</th>\n",
       "      <th>numeros</th>\n",
       "      <th>comodines</th>\n",
       "      <th>premio</th>\n",
       "      <th>n0</th>\n",
       "      <th>n1</th>\n",
       "      <th>n2</th>\n",
       "      <th>n3</th>\n",
       "      <th>n4</th>\n",
       "      <th>n5</th>\n",
       "    </tr>\n",
       "  </thead>\n",
       "  <tbody>\n",
       "    <tr>\n",
       "      <th>4972</th>\n",
       "      <td> 4/15/2014 12:00:00 AM</td>\n",
       "      <td>  2,6,11,23,25,34</td>\n",
       "      <td> 10</td>\n",
       "      <td>  520000000</td>\n",
       "      <td> 2</td>\n",
       "      <td>  6</td>\n",
       "      <td> 11</td>\n",
       "      <td> 23</td>\n",
       "      <td> 25</td>\n",
       "      <td> 34</td>\n",
       "    </tr>\n",
       "    <tr>\n",
       "      <th>5016</th>\n",
       "      <td> 5/11/2014 12:00:00 AM</td>\n",
       "      <td>  4,9,15,16,33,34</td>\n",
       "      <td>  3</td>\n",
       "      <td> 1060000000</td>\n",
       "      <td> 4</td>\n",
       "      <td>  9</td>\n",
       "      <td> 15</td>\n",
       "      <td> 16</td>\n",
       "      <td> 33</td>\n",
       "      <td> 34</td>\n",
       "    </tr>\n",
       "    <tr>\n",
       "      <th>5044</th>\n",
       "      <td> 5/27/2014 12:00:00 AM</td>\n",
       "      <td>  4,6,11,17,19,33</td>\n",
       "      <td> 13</td>\n",
       "      <td> 1060000000</td>\n",
       "      <td> 4</td>\n",
       "      <td>  6</td>\n",
       "      <td> 11</td>\n",
       "      <td> 17</td>\n",
       "      <td> 19</td>\n",
       "      <td> 33</td>\n",
       "    </tr>\n",
       "    <tr>\n",
       "      <th>5132</th>\n",
       "      <td> 7/17/2014 12:00:00 AM</td>\n",
       "      <td> 4,14,18,20,28,34</td>\n",
       "      <td> 32</td>\n",
       "      <td> 5670000000</td>\n",
       "      <td> 4</td>\n",
       "      <td> 14</td>\n",
       "      <td> 18</td>\n",
       "      <td> 20</td>\n",
       "      <td> 28</td>\n",
       "      <td> 34</td>\n",
       "    </tr>\n",
       "    <tr>\n",
       "      <th>5148</th>\n",
       "      <td> 7/27/2014 12:00:00 AM</td>\n",
       "      <td>  1,4,10,21,28,30</td>\n",
       "      <td> 24</td>\n",
       "      <td>  640000000</td>\n",
       "      <td> 1</td>\n",
       "      <td>  4</td>\n",
       "      <td> 10</td>\n",
       "      <td> 21</td>\n",
       "      <td> 28</td>\n",
       "      <td> 30</td>\n",
       "    </tr>\n",
       "  </tbody>\n",
       "</table>\n",
       "<p>5 rows × 10 columns</p>\n",
       "</div>"
      ],
      "text/plain": [
       "                      fecha           numeros  comodines      premio n0  n1  \\\n",
       "4972  4/15/2014 12:00:00 AM   2,6,11,23,25,34         10   520000000  2   6   \n",
       "5016  5/11/2014 12:00:00 AM   4,9,15,16,33,34          3  1060000000  4   9   \n",
       "5044  5/27/2014 12:00:00 AM   4,6,11,17,19,33         13  1060000000  4   6   \n",
       "5132  7/17/2014 12:00:00 AM  4,14,18,20,28,34         32  5670000000  4  14   \n",
       "5148  7/27/2014 12:00:00 AM   1,4,10,21,28,30         24   640000000  1   4   \n",
       "\n",
       "      n2  n3  n4  n5  \n",
       "4972  11  23  25  34  \n",
       "5016  15  16  33  34  \n",
       "5044  11  17  19  33  \n",
       "5132  18  20  28  34  \n",
       "5148  10  21  28  30  \n",
       "\n",
       "[5 rows x 10 columns]"
      ]
     },
     "execution_count": 14,
     "metadata": {},
     "output_type": "execute_result"
    }
   ],
   "source": [
    "separando = ganadores['numeros'].apply(lambda x: pd.Series(list(x.split(','))))\n",
    "separando.columns = ['n'+str(x) for x in separando.columns]\n",
    "loto= ganadores.join(separando)\n",
    "loto.tail()"
   ]
  },
  {
   "cell_type": "code",
   "execution_count": 15,
   "metadata": {},
   "outputs": [
    {
     "data": {
      "text/plain": [
       "fecha         object\n",
       "numeros       object\n",
       "comodines    float64\n",
       "premio       float64\n",
       "n0            object\n",
       "n1            object\n",
       "n2            object\n",
       "n3            object\n",
       "n4            object\n",
       "n5            object\n",
       "dtype: object"
      ]
     },
     "execution_count": 15,
     "metadata": {},
     "output_type": "execute_result"
    }
   ],
   "source": [
    "loto.dtypes"
   ]
  },
  {
   "cell_type": "markdown",
   "metadata": {},
   "source": [
    "Como podemos ver los numeros que separamos en el paso anterior son de tipo **`object`** para poder trabajar debemos pasar a un formato numerico ej, **`float64`**"
   ]
  },
  {
   "cell_type": "code",
   "execution_count": 16,
   "metadata": {},
   "outputs": [
    {
     "data": {
      "text/plain": [
       "fecha         object\n",
       "numeros       object\n",
       "comodines    float64\n",
       "premio       float64\n",
       "n0           float64\n",
       "n1           float64\n",
       "n2           float64\n",
       "n3           float64\n",
       "n4           float64\n",
       "n5           float64\n",
       "dtype: object"
      ]
     },
     "execution_count": 16,
     "metadata": {},
     "output_type": "execute_result"
    }
   ],
   "source": [
    "loto[['n0','n1','n2','n3','n4','n5']]=loto[['n0','n1','n2','n3','n4','n5']].astype(float)\n",
    "loto.dtypes"
   ]
  },
  {
   "cell_type": "code",
   "execution_count": 17,
   "metadata": {},
   "outputs": [],
   "source": [
    "millonarios = loto[['n0','n1','n2','n3','n4','n5']].stack().value_counts()"
   ]
  },
  {
   "cell_type": "code",
   "execution_count": 18,
   "metadata": {},
   "outputs": [
    {
     "data": {
      "text/plain": [
       "5     23\n",
       "4     21\n",
       "18    20\n",
       "15    20\n",
       "22    20\n",
       "21    19\n",
       "dtype: int64"
      ]
     },
     "execution_count": 18,
     "metadata": {},
     "output_type": "execute_result"
    }
   ],
   "source": [
    "millonarios.head(6)"
   ]
  },
  {
   "cell_type": "code",
   "execution_count": 19,
   "metadata": {},
   "outputs": [
    {
     "data": {
      "text/plain": [
       "<matplotlib.axes.AxesSubplot at 0x1085b47d0>"
      ]
     },
     "execution_count": 19,
     "metadata": {},
     "output_type": "execute_result"
    },
    {
     "data": {
      "image/png": "[encoded data removed]",
      "text/plain": [
       "<matplotlib.figure.Figure at 0x105844950>"
      ]
     },
     "metadata": {},
     "output_type": "display_data"
    }
   ],
   "source": [
    "#Los mejores\n",
    "millonarios.head(6).plot(kind='bar')"
   ]
  },
  {
   "cell_type": "code",
   "execution_count": 20,
   "metadata": {},
   "outputs": [
    {
     "data": {
      "text/plain": [
       "39    9\n",
       "35    8\n",
       "24    7\n",
       "41    6\n",
       "40    5\n",
       "37    5\n",
       "dtype: int64"
      ]
     },
     "execution_count": 20,
     "metadata": {},
     "output_type": "execute_result"
    }
   ],
   "source": [
    "#los peores\n",
    "millonarios.tail(6)"
   ]
  },
  {
   "cell_type": "code",
   "execution_count": 21,
   "metadata": {},
   "outputs": [
    {
     "data": {
      "text/plain": [
       "<matplotlib.axes.AxesSubplot at 0x107d20550>"
      ]
     },
     "execution_count": 21,
     "metadata": {},
     "output_type": "execute_result"
    },
    {
     "data": {
      "image/png": "[encoded data removed]",
      "text/plain": [
       "<matplotlib.figure.Figure at 0x107d1b4d0>"
      ]
     },
     "metadata": {},
     "output_type": "display_data"
    }
   ],
   "source": [
    "millonarios.tail(10).plot(kind=\"barh\")"
   ]
  }
 ],
 "metadata": {
  "kernelspec": {
   "display_name": "Python 3 (ipykernel)",
   "language": "python",
   "name": "python3"
  },
  "language_info": {
   "codemirror_mode": {
    "name": "ipython",
    "version": 3
   },
   "file_extension": ".py",
   "mimetype": "text/x-python",
   "name": "python",
   "nbconvert_exporter": "python",
   "pygments_lexer": "ipython3",
   "version": "3.9.12"
  }
 },
 "nbformat": 4,
 "nbformat_minor": 1
}
